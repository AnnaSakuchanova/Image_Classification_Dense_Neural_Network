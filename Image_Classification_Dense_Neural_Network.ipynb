{
  "nbformat": 4,
  "nbformat_minor": 0,
  "metadata": {
    "colab": {
      "name": "Image Classification: Dense Neural Network",
      "provenance": [],
      "authorship_tag": "ABX9TyMyNz7UbZnv1y4RAnUQlQXl",
      "include_colab_link": true
    },
    "kernelspec": {
      "name": "python3",
      "display_name": "Python 3"
    },
    "language_info": {
      "name": "python"
    }
  },
  "cells": [
    {
      "cell_type": "markdown",
      "metadata": {
        "id": "view-in-github",
        "colab_type": "text"
      },
      "source": [
        "<a href=\"https://colab.research.google.com/github/AnnaSakuchanova/Image_Classification_Dense_Neural_Network/blob/main/Image_Classification_Dense_Neural_Network.ipynb\" target=\"_parent\"><img src=\"https://colab.research.google.com/assets/colab-badge.svg\" alt=\"Open In Colab\"/></a>"
      ]
    },
    {
      "cell_type": "code",
      "execution_count": null,
      "metadata": {
        "id": "1OqerKqXmC6C"
      },
      "outputs": [],
      "source": [
        "import numpy as np\n",
        "import matplotlib.pyplot as plt\n",
        "import random\n",
        "import os\n",
        "import PIL\n",
        "\n",
        "from keras.datasets import mnist\n",
        "from keras.models import Sequential\n",
        "from keras.layers.core import Dense,Dropout,Activation\n",
        "from skimage.transform import resize\n",
        "from sklearn.metrics import confusion_matrix  \n",
        "from keras.utils import np_utils"
      ]
    },
    {
      "cell_type": "markdown",
      "source": [
        ""
      ],
      "metadata": {
        "id": "4MGQoZ7DmXty"
      }
    },
    {
      "cell_type": "code",
      "source": [
        "DATASET_path = \"/content/dataset\""
      ],
      "metadata": {
        "id": "bMXIgYnXmDkb"
      },
      "execution_count": null,
      "outputs": []
    },
    {
      "cell_type": "code",
      "source": [
        "#Желаемый размер\n",
        "TARGET_WIDTH = 28\n",
        "TARGET_HEIGHT = 28\n",
        "#Отложите 20% на проверку и 20% на тестирование\n",
        "VAL_RATIO = 0.2\n",
        "TEST_RATIO = 0.2\n",
        "\n",
        "INVERT = False\n",
        "\n",
        "random.seed(42)"
      ],
      "metadata": {
        "id": "753i-wZ4mni0"
      },
      "execution_count": null,
      "outputs": []
    },
    {
      "cell_type": "code",
      "source": [
        "##Загружать изображения как массивы Numpy\n",
        "\n",
        "labels = []\n",
        "y_all = []\n",
        "X_all = []\n",
        "\n",
        "\n",
        "for label in os.listdir(DATASET_path):\n",
        "  class_dir = os.path.join(DATASET_path, label)\n",
        "  if os.path.isdir(class_dir) and label != \".ipynb_checkpoints\":\n",
        "      labels.append(label)\n",
        "      for i, file in enumerate(os.listdir(class_dir)):\n",
        "        if file != \".ipynb_checkpoints\":\n",
        "            file_path = os.path.join(class_dir, file)\n",
        "            img = PIL.Image.open(file_path).convert('L')\n",
        "            img_array = np.asarray(img)\n",
        "            if INVERT:\n",
        "                img_array = 255 - img_array\n",
        "            X_all.append(img_array)\n",
        "            y_all.append(label)\n",
        "        print(\"Added\", str(i + 1), \"images from\", label)\n",
        "# Рассчитать общее количество образцов\n",
        "num_samples = len(X_all)\n",
        "\n",
        "# Отсортировать список ярлыков в алфавитном порядке\n",
        "labels = sorted(labels)\n",
        "\n",
        "# Print out labels and number of samples\n",
        "print(labels)\n",
        "print(\"Number of samples:\", num_samples)"
      ],
      "metadata": {
        "colab": {
          "base_uri": "https://localhost:8080/"
        },
        "id": "kSgnp2L_mnmC",
        "outputId": "b28e5979-ba23-4fae-8132-f2499508b3a8"
      },
      "execution_count": null,
      "outputs": [
        {
          "output_type": "stream",
          "name": "stdout",
          "text": [
            "Added 1 images from resistor\n",
            "Added 2 images from resistor\n",
            "Added 3 images from resistor\n",
            "Added 4 images from resistor\n",
            "Added 5 images from resistor\n",
            "Added 6 images from resistor\n",
            "Added 7 images from resistor\n",
            "Added 8 images from resistor\n",
            "Added 9 images from resistor\n",
            "Added 10 images from resistor\n",
            "Added 11 images from resistor\n",
            "Added 12 images from resistor\n",
            "Added 13 images from resistor\n",
            "Added 14 images from resistor\n",
            "Added 15 images from resistor\n",
            "Added 16 images from resistor\n",
            "Added 17 images from resistor\n",
            "Added 18 images from resistor\n",
            "Added 19 images from resistor\n",
            "Added 20 images from resistor\n",
            "Added 21 images from resistor\n",
            "Added 22 images from resistor\n",
            "Added 23 images from resistor\n",
            "Added 24 images from resistor\n",
            "Added 25 images from resistor\n",
            "Added 26 images from resistor\n",
            "Added 27 images from resistor\n",
            "Added 28 images from resistor\n",
            "Added 29 images from resistor\n",
            "Added 30 images from resistor\n",
            "Added 31 images from resistor\n",
            "Added 32 images from resistor\n",
            "Added 33 images from resistor\n",
            "Added 34 images from resistor\n",
            "Added 35 images from resistor\n",
            "Added 36 images from resistor\n",
            "Added 37 images from resistor\n",
            "Added 38 images from resistor\n",
            "Added 39 images from resistor\n",
            "Added 40 images from resistor\n",
            "Added 41 images from resistor\n",
            "Added 42 images from resistor\n",
            "Added 43 images from resistor\n",
            "Added 44 images from resistor\n",
            "Added 45 images from resistor\n",
            "Added 46 images from resistor\n",
            "Added 47 images from resistor\n",
            "Added 48 images from resistor\n",
            "Added 49 images from resistor\n",
            "Added 50 images from resistor\n",
            "Added 1 images from diode\n",
            "Added 2 images from diode\n",
            "Added 3 images from diode\n",
            "Added 4 images from diode\n",
            "Added 5 images from diode\n",
            "Added 6 images from diode\n",
            "Added 7 images from diode\n",
            "Added 8 images from diode\n",
            "Added 9 images from diode\n",
            "Added 10 images from diode\n",
            "Added 11 images from diode\n",
            "Added 12 images from diode\n",
            "Added 13 images from diode\n",
            "Added 14 images from diode\n",
            "Added 15 images from diode\n",
            "Added 16 images from diode\n",
            "Added 17 images from diode\n",
            "Added 18 images from diode\n",
            "Added 19 images from diode\n",
            "Added 20 images from diode\n",
            "Added 21 images from diode\n",
            "Added 22 images from diode\n",
            "Added 23 images from diode\n",
            "Added 24 images from diode\n",
            "Added 25 images from diode\n",
            "Added 26 images from diode\n",
            "Added 27 images from diode\n",
            "Added 28 images from diode\n",
            "Added 29 images from diode\n",
            "Added 30 images from diode\n",
            "Added 31 images from diode\n",
            "Added 32 images from diode\n",
            "Added 33 images from diode\n",
            "Added 34 images from diode\n",
            "Added 35 images from diode\n",
            "Added 36 images from diode\n",
            "Added 37 images from diode\n",
            "Added 38 images from diode\n",
            "Added 39 images from diode\n",
            "Added 40 images from diode\n",
            "Added 41 images from diode\n",
            "Added 42 images from diode\n",
            "Added 43 images from diode\n",
            "Added 44 images from diode\n",
            "Added 45 images from diode\n",
            "Added 46 images from diode\n",
            "Added 47 images from diode\n",
            "Added 48 images from diode\n",
            "Added 49 images from diode\n",
            "Added 50 images from diode\n",
            "Added 1 images from capacitor\n",
            "Added 2 images from capacitor\n",
            "Added 3 images from capacitor\n",
            "Added 4 images from capacitor\n",
            "Added 5 images from capacitor\n",
            "Added 6 images from capacitor\n",
            "Added 7 images from capacitor\n",
            "Added 8 images from capacitor\n",
            "Added 9 images from capacitor\n",
            "Added 10 images from capacitor\n",
            "Added 11 images from capacitor\n",
            "Added 12 images from capacitor\n",
            "Added 13 images from capacitor\n",
            "Added 14 images from capacitor\n",
            "Added 15 images from capacitor\n",
            "Added 16 images from capacitor\n",
            "Added 17 images from capacitor\n",
            "Added 18 images from capacitor\n",
            "Added 19 images from capacitor\n",
            "Added 20 images from capacitor\n",
            "Added 21 images from capacitor\n",
            "Added 22 images from capacitor\n",
            "Added 23 images from capacitor\n",
            "Added 24 images from capacitor\n",
            "Added 25 images from capacitor\n",
            "Added 26 images from capacitor\n",
            "Added 27 images from capacitor\n",
            "Added 28 images from capacitor\n",
            "Added 29 images from capacitor\n",
            "Added 30 images from capacitor\n",
            "Added 31 images from capacitor\n",
            "Added 32 images from capacitor\n",
            "Added 33 images from capacitor\n",
            "Added 34 images from capacitor\n",
            "Added 35 images from capacitor\n",
            "Added 36 images from capacitor\n",
            "Added 37 images from capacitor\n",
            "Added 38 images from capacitor\n",
            "Added 39 images from capacitor\n",
            "Added 40 images from capacitor\n",
            "Added 41 images from capacitor\n",
            "Added 42 images from capacitor\n",
            "Added 43 images from capacitor\n",
            "Added 44 images from capacitor\n",
            "Added 45 images from capacitor\n",
            "Added 46 images from capacitor\n",
            "Added 47 images from capacitor\n",
            "Added 48 images from capacitor\n",
            "Added 49 images from capacitor\n",
            "Added 50 images from capacitor\n",
            "Added 1 images from led\n",
            "Added 2 images from led\n",
            "Added 3 images from led\n",
            "Added 4 images from led\n",
            "Added 5 images from led\n",
            "Added 6 images from led\n",
            "Added 7 images from led\n",
            "Added 8 images from led\n",
            "Added 9 images from led\n",
            "Added 10 images from led\n",
            "Added 11 images from led\n",
            "Added 12 images from led\n",
            "Added 13 images from led\n",
            "Added 14 images from led\n",
            "Added 15 images from led\n",
            "Added 16 images from led\n",
            "Added 17 images from led\n",
            "Added 18 images from led\n",
            "Added 19 images from led\n",
            "Added 20 images from led\n",
            "Added 21 images from led\n",
            "Added 22 images from led\n",
            "Added 23 images from led\n",
            "Added 24 images from led\n",
            "Added 25 images from led\n",
            "Added 26 images from led\n",
            "Added 27 images from led\n",
            "Added 28 images from led\n",
            "Added 29 images from led\n",
            "Added 30 images from led\n",
            "Added 31 images from led\n",
            "Added 32 images from led\n",
            "Added 33 images from led\n",
            "Added 34 images from led\n",
            "Added 35 images from led\n",
            "Added 36 images from led\n",
            "Added 37 images from led\n",
            "Added 38 images from led\n",
            "Added 39 images from led\n",
            "Added 40 images from led\n",
            "Added 41 images from led\n",
            "Added 42 images from led\n",
            "Added 43 images from led\n",
            "Added 44 images from led\n",
            "Added 45 images from led\n",
            "Added 46 images from led\n",
            "Added 47 images from led\n",
            "Added 48 images from led\n",
            "Added 49 images from led\n",
            "Added 50 images from led\n",
            "Added 1 images from background\n",
            "Added 2 images from background\n",
            "Added 3 images from background\n",
            "Added 4 images from background\n",
            "Added 5 images from background\n",
            "Added 6 images from background\n",
            "Added 7 images from background\n",
            "Added 8 images from background\n",
            "Added 9 images from background\n",
            "Added 10 images from background\n",
            "Added 11 images from background\n",
            "Added 12 images from background\n",
            "Added 13 images from background\n",
            "Added 14 images from background\n",
            "Added 15 images from background\n",
            "Added 16 images from background\n",
            "Added 17 images from background\n",
            "Added 18 images from background\n",
            "Added 19 images from background\n",
            "Added 20 images from background\n",
            "Added 21 images from background\n",
            "Added 22 images from background\n",
            "Added 23 images from background\n",
            "Added 24 images from background\n",
            "Added 25 images from background\n",
            "Added 26 images from background\n",
            "Added 27 images from background\n",
            "Added 28 images from background\n",
            "Added 29 images from background\n",
            "Added 30 images from background\n",
            "Added 31 images from background\n",
            "Added 32 images from background\n",
            "Added 33 images from background\n",
            "Added 34 images from background\n",
            "Added 35 images from background\n",
            "Added 36 images from background\n",
            "Added 37 images from background\n",
            "Added 38 images from background\n",
            "Added 39 images from background\n",
            "Added 40 images from background\n",
            "Added 41 images from background\n",
            "Added 42 images from background\n",
            "Added 43 images from background\n",
            "Added 44 images from background\n",
            "Added 45 images from background\n",
            "Added 46 images from background\n",
            "Added 47 images from background\n",
            "Added 48 images from background\n",
            "Added 49 images from background\n",
            "Added 50 images from background\n",
            "['background', 'capacitor', 'diode', 'led', 'resistor']\n",
            "Number of samples: 250\n"
          ]
        }
      ]
    },
    {
      "cell_type": "code",
      "source": [
        "#Преобразование меток в числа\n",
        "\n",
        "#Показывать ярлыки перед преобразованием\n",
        "print(\"Before:\", y_all)"
      ],
      "metadata": {
        "id": "uex5X_vtmnqR",
        "colab": {
          "base_uri": "https://localhost:8080/"
        },
        "outputId": "08245a74-4b07-4cc9-aba4-cff588e49a01"
      },
      "execution_count": null,
      "outputs": [
        {
          "output_type": "stream",
          "name": "stdout",
          "text": [
            "Before: ['resistor', 'resistor', 'resistor', 'resistor', 'resistor', 'resistor', 'resistor', 'resistor', 'resistor', 'resistor', 'resistor', 'resistor', 'resistor', 'resistor', 'resistor', 'resistor', 'resistor', 'resistor', 'resistor', 'resistor', 'resistor', 'resistor', 'resistor', 'resistor', 'resistor', 'resistor', 'resistor', 'resistor', 'resistor', 'resistor', 'resistor', 'resistor', 'resistor', 'resistor', 'resistor', 'resistor', 'resistor', 'resistor', 'resistor', 'resistor', 'resistor', 'resistor', 'resistor', 'resistor', 'resistor', 'resistor', 'resistor', 'resistor', 'resistor', 'resistor', 'diode', 'diode', 'diode', 'diode', 'diode', 'diode', 'diode', 'diode', 'diode', 'diode', 'diode', 'diode', 'diode', 'diode', 'diode', 'diode', 'diode', 'diode', 'diode', 'diode', 'diode', 'diode', 'diode', 'diode', 'diode', 'diode', 'diode', 'diode', 'diode', 'diode', 'diode', 'diode', 'diode', 'diode', 'diode', 'diode', 'diode', 'diode', 'diode', 'diode', 'diode', 'diode', 'diode', 'diode', 'diode', 'diode', 'diode', 'diode', 'diode', 'diode', 'capacitor', 'capacitor', 'capacitor', 'capacitor', 'capacitor', 'capacitor', 'capacitor', 'capacitor', 'capacitor', 'capacitor', 'capacitor', 'capacitor', 'capacitor', 'capacitor', 'capacitor', 'capacitor', 'capacitor', 'capacitor', 'capacitor', 'capacitor', 'capacitor', 'capacitor', 'capacitor', 'capacitor', 'capacitor', 'capacitor', 'capacitor', 'capacitor', 'capacitor', 'capacitor', 'capacitor', 'capacitor', 'capacitor', 'capacitor', 'capacitor', 'capacitor', 'capacitor', 'capacitor', 'capacitor', 'capacitor', 'capacitor', 'capacitor', 'capacitor', 'capacitor', 'capacitor', 'capacitor', 'capacitor', 'capacitor', 'capacitor', 'capacitor', 'led', 'led', 'led', 'led', 'led', 'led', 'led', 'led', 'led', 'led', 'led', 'led', 'led', 'led', 'led', 'led', 'led', 'led', 'led', 'led', 'led', 'led', 'led', 'led', 'led', 'led', 'led', 'led', 'led', 'led', 'led', 'led', 'led', 'led', 'led', 'led', 'led', 'led', 'led', 'led', 'led', 'led', 'led', 'led', 'led', 'led', 'led', 'led', 'led', 'led', 'background', 'background', 'background', 'background', 'background', 'background', 'background', 'background', 'background', 'background', 'background', 'background', 'background', 'background', 'background', 'background', 'background', 'background', 'background', 'background', 'background', 'background', 'background', 'background', 'background', 'background', 'background', 'background', 'background', 'background', 'background', 'background', 'background', 'background', 'background', 'background', 'background', 'background', 'background', 'background', 'background', 'background', 'background', 'background', 'background', 'background', 'background', 'background', 'background', 'background']\n"
          ]
        }
      ]
    },
    {
      "cell_type": "code",
      "source": [
        "#Преобразуйте каждую метку в ее индекс в метках\n",
        "y_out = []\n",
        "for i, label in enumerate(y_all):\n",
        "    y_out.append(labels.index(label))\n",
        "y_all = y_out\n",
        "\n",
        "print(\"After:\", y_all)"
      ],
      "metadata": {
        "id": "-V1sytLUmntR",
        "colab": {
          "base_uri": "https://localhost:8080/"
        },
        "outputId": "73a99c9d-e164-43d7-ca3c-8080a5f1aa6f"
      },
      "execution_count": null,
      "outputs": [
        {
          "output_type": "stream",
          "name": "stdout",
          "text": [
            "After: [4, 4, 4, 4, 4, 4, 4, 4, 4, 4, 4, 4, 4, 4, 4, 4, 4, 4, 4, 4, 4, 4, 4, 4, 4, 4, 4, 4, 4, 4, 4, 4, 4, 4, 4, 4, 4, 4, 4, 4, 4, 4, 4, 4, 4, 4, 4, 4, 4, 4, 2, 2, 2, 2, 2, 2, 2, 2, 2, 2, 2, 2, 2, 2, 2, 2, 2, 2, 2, 2, 2, 2, 2, 2, 2, 2, 2, 2, 2, 2, 2, 2, 2, 2, 2, 2, 2, 2, 2, 2, 2, 2, 2, 2, 2, 2, 2, 2, 2, 2, 1, 1, 1, 1, 1, 1, 1, 1, 1, 1, 1, 1, 1, 1, 1, 1, 1, 1, 1, 1, 1, 1, 1, 1, 1, 1, 1, 1, 1, 1, 1, 1, 1, 1, 1, 1, 1, 1, 1, 1, 1, 1, 1, 1, 1, 1, 1, 1, 1, 1, 3, 3, 3, 3, 3, 3, 3, 3, 3, 3, 3, 3, 3, 3, 3, 3, 3, 3, 3, 3, 3, 3, 3, 3, 3, 3, 3, 3, 3, 3, 3, 3, 3, 3, 3, 3, 3, 3, 3, 3, 3, 3, 3, 3, 3, 3, 3, 3, 3, 3, 0, 0, 0, 0, 0, 0, 0, 0, 0, 0, 0, 0, 0, 0, 0, 0, 0, 0, 0, 0, 0, 0, 0, 0, 0, 0, 0, 0, 0, 0, 0, 0, 0, 0, 0, 0, 0, 0, 0, 0, 0, 0, 0, 0, 0, 0, 0, 0, 0, 0]\n"
          ]
        }
      ]
    },
    {
      "cell_type": "code",
      "source": [
        "##Перемешайте образцы и этикетки вместе, разделите на тестовые, проверочные и обучающие наборы\n",
        "\n",
        "#Перемешать сэмплы и связанные с ними метки вместе\n",
        "\n",
        "X_y = list(zip(X_all, y_all))\n",
        "random.shuffle(X_y)\n",
        "X_all, y_all = zip(*X_y)"
      ],
      "metadata": {
        "id": "Ob3F6QAEuQJK"
      },
      "execution_count": null,
      "outputs": []
    },
    {
      "cell_type": "code",
      "source": [
        "#Рассчитать количество проверочных и тестовых образцов, которые необходимо отложить (округлить в меньшую сторону)\n",
        "\n",
        "num_samples_test = int(TEST_RATIO * num_samples)\n",
        "num_samples_val = int(VAL_RATIO * num_samples)"
      ],
      "metadata": {
        "id": "L_I2brTTuQL6"
      },
      "execution_count": null,
      "outputs": []
    },
    {
      "cell_type": "code",
      "source": [
        "X_test = X_all[:num_samples_test]\n",
        "y_test = y_all[:num_samples_test]"
      ],
      "metadata": {
        "id": "Q4T-ryNbO6Ec"
      },
      "execution_count": null,
      "outputs": []
    },
    {
      "cell_type": "code",
      "source": [
        "X_val = X_all[num_samples_test:(num_samples_test + num_samples_val)]\n",
        "y_val = y_all[num_samples_test:(num_samples_test + num_samples_val)]"
      ],
      "metadata": {
        "id": "yMk_lggyO9yM"
      },
      "execution_count": null,
      "outputs": []
    },
    {
      "cell_type": "code",
      "source": [
        "#Первые образцы num_samples_test из перетасованного списка становятся набором тестов\n",
        "\n",
        "X_train = X_all[(num_samples_test + num_samples_val):]\n",
        "y_train = y_all[(num_samples_test + num_samples_val):]\n"
      ],
      "metadata": {
        "id": "-lvUr54KuQOx"
      },
      "execution_count": null,
      "outputs": []
    },
    {
      "cell_type": "code",
      "source": [
        "#Запомните количество образцов в тестовом наборе\n",
        "\n",
        "num_samples_train = len(X_train)"
      ],
      "metadata": {
        "id": "op886XnyvSwa"
      },
      "execution_count": null,
      "outputs": []
    },
    {
      "cell_type": "code",
      "source": [
        "print('Количество тестовых образцов:', num_samples_test)\n",
        "print('Количество проверочных образцов:', num_samples_val)\n",
        "print('Количество обучающих выборок:', num_samples_train)"
      ],
      "metadata": {
        "id": "uFAiW1XIvSzB",
        "colab": {
          "base_uri": "https://localhost:8080/"
        },
        "outputId": "ad2bd3ae-8290-417d-cac4-3cf6693bb532"
      },
      "execution_count": null,
      "outputs": [
        {
          "output_type": "stream",
          "name": "stdout",
          "text": [
            "Количество тестовых образцов: 50\n",
            "Количество проверочных образцов: 50\n",
            "Количество обучающих выборок: 150\n"
          ]
        }
      ]
    },
    {
      "cell_type": "code",
      "source": [
        "#Посмотреть один из обучающих примеров\n",
        "#Выберите, какой образец вы хотите просмотреть\n",
        "idx = 0\n",
        "#Распечатайте метку (число и строку) и часть массива\n",
        "print(\"Label:\" + str(y_train[idx])+ \"(\"+ labels[y_train[idx]]+ \")\")\n",
        "print(X_train[idx])\n"
      ],
      "metadata": {
        "id": "tfgq2h3AvjyA",
        "colab": {
          "base_uri": "https://localhost:8080/"
        },
        "outputId": "a5e199ff-efa9-4c00-a0b7-d9e6026da26c"
      },
      "execution_count": null,
      "outputs": [
        {
          "output_type": "stream",
          "name": "stdout",
          "text": [
            "Label:1(capacitor)\n",
            "[[158 158 158 ... 163 163 163]\n",
            " [158 158 158 ... 163 163 163]\n",
            " [158 158 157 ... 163 164 163]\n",
            " ...\n",
            " [141 141 141 ... 127 125 127]\n",
            " [141 141 141 ... 125 125 125]\n",
            " [141 141 141 ... 122 125 125]]\n"
          ]
        }
      ]
    },
    {
      "cell_type": "code",
      "source": [
        "#Показать изображение из массива\n",
        "plt.imshow(X_train[idx],cmap = 'gray', vmin=0, vmax=255)"
      ],
      "metadata": {
        "id": "JZLcd4j1vj7g",
        "colab": {
          "base_uri": "https://localhost:8080/",
          "height": 286
        },
        "outputId": "726a1f1c-16e4-4ed0-f5aa-659b32565af3"
      },
      "execution_count": null,
      "outputs": [
        {
          "output_type": "execute_result",
          "data": {
            "text/plain": [
              "<matplotlib.image.AxesImage at 0x7fc9b19764d0>"
            ]
          },
          "metadata": {},
          "execution_count": 81
        },
        {
          "output_type": "display_data",
          "data": {
            "text/plain": [
              "<Figure size 432x288 with 1 Axes>"
            ],
            "image/png": "[encoded data removed]"
          },
          "metadata": {
            "needs_background": "light"
          }
        }
      ]
    },
    {
      "cell_type": "code",
      "source": [
        "#Функция изменения размера списка изображений\n",
        "def rezise_images(images, widht, height, anti_aliasing=True):\n",
        "  X_out = []\n",
        "  for i, img in enumerate(images):\n",
        "    X_out.append(resize(img, (height, width), anti_aliasing=anti_aliasing))\n",
        "  return X_out"
      ],
      "metadata": {
        "id": "NRZHkX0wvj-j"
      },
      "execution_count": null,
      "outputs": []
    },
    {
      "cell_type": "code",
      "source": [
        "#Масштабирование/обрезка изображений\n",
        "#Изменение размера (масштабирование) всех изображений в тренировочном наборе\n",
        "X_train = resize_images(X_train, TARGET_WIDTH, TARGET_HEIGHT)\n",
        "#Изменение размера (масштабирование) всех изображений в проверочном наборе\n",
        "X_val = resize_images(X_val, TARGET_WIDTH, TARGET_HEIGHT)\n",
        "#Изменение размера (масштабирование) всех изображений в тестовом наборе\n",
        "X_test = resize_images(X_test, TARGET_WIDTH, TARGET_HEIGHT)"
      ],
      "metadata": {
        "id": "RNjyVvyhvkAo"
      },
      "execution_count": null,
      "outputs": []
    },
    {
      "cell_type": "code",
      "source": [
        "#Просмотрите обучающую выборку еще раз (после того, как все они будут масштабированы)\n",
        "#Выберите, какой образец вы хотите просмотреть\n",
        "idx = 0\n",
        "#Распечатайте метку (число и строку) и часть массива\n",
        "print(\"Label: \" + str(y_train[idx]) + \" (\" + labels[y_train[idx]] + \")\")\n",
        "print(\"First row:\", X_train[idx][:1,:])\n",
        "#Показать изображение из массива\n",
        "plt.imshow(X_train[idx],cmap = 'gray', vmin=0, vmax=1)"
      ],
      "metadata": {
        "id": "b2W2aCH3vkDZ",
        "colab": {
          "base_uri": "https://localhost:8080/",
          "height": 393
        },
        "outputId": "e62179e3-505e-4714-fabc-e741473a5db5"
      },
      "execution_count": null,
      "outputs": [
        {
          "output_type": "stream",
          "name": "stdout",
          "text": [
            "Label: 1 (capacitor)\n",
            "First row: [[0.61568627 0.61568627 0.61568627 0.61568627 0.61568627 0.61568627\n",
            "  0.61568627 0.62436975 0.63137255 0.63137255 0.63137255 0.63137255\n",
            "  0.63137255 0.63529412 0.63529412 0.63529412 0.63529412 0.63529412\n",
            "  0.63529412 0.63529412 0.63529412 0.63529412 0.63529412 0.63529412\n",
            "  0.63529412 0.63215286 0.63529412 0.63529412]]\n"
          ]
        },
        {
          "output_type": "execute_result",
          "data": {
            "text/plain": [
              "<matplotlib.image.AxesImage at 0x7fc9aeef3f50>"
            ]
          },
          "metadata": {},
          "execution_count": 94
        },
        {
          "output_type": "display_data",
          "data": {
            "text/plain": [
              "<Figure size 432x288 with 1 Axes>"
            ],
            "image/png": "[encoded data removed]"
          },
          "metadata": {
            "needs_background": "light"
          }
        }
      ]
    },
    {
      "cell_type": "code",
      "source": [
        "#Преобразование списка образцов и меток в массивы Numpy\n",
        "# Обучающий набор\n",
        "X_train = np.asarray(X_train)\n",
        "y_train = np.asarray(y_train)\n",
        "\n",
        "# Набор проверки\n",
        "X_val = np.asarray(X_val)\n",
        "y_val = np.asarray(y_val)\n",
        "\n",
        "# Тестовый набор\n",
        "X_test = np.asarray(X_test)\n",
        "y_test = np.asarray(y_test)\n",
        "\n",
        "# Распечатайте новые формы массива Numpy (всегда рекомендуется проверять формы!)\n",
        "print(\"Training X:\", X_train.shape)\n",
        "print(\"Training y:\", y_train.shape)\n",
        "print(\"Validation X:\", X_val.shape)\n",
        "print(\"Validation y:\", y_val.shape)\n",
        "print(\"Test X:\", X_test.shape)\n",
        "print(\"Test y:\", y_test.shape)"
      ],
      "metadata": {
        "id": "R1f0sA2mvkF6",
        "colab": {
          "base_uri": "https://localhost:8080/"
        },
        "outputId": "7fdef097-e944-4622-f02f-17d5373a9e83"
      },
      "execution_count": null,
      "outputs": [
        {
          "output_type": "stream",
          "name": "stdout",
          "text": [
            "Training X: (150, 28, 28)\n",
            "Training y: (150,)\n",
            "Validation X: (50, 28, 28)\n",
            "Validation y: (50,)\n",
            "Test X: (50, 28, 28)\n",
            "Test y: (50,)\n"
          ]
        }
      ]
    },
    {
      "cell_type": "code",
      "source": [
        "#Сгладить каждое изображение к одномерному вектору (DNN требует одномерного ввода)\n",
        "#Вычислите длину одномерного массива, к которому мы будем сглаживать каждое изображение\n",
        "len_vector = TARGET_WIDTH * TARGET_WIDTH\n",
        "#Свести матрицы к векторам\n",
        "X_train = X_train.reshape(num_samples_train, len_vector)\n",
        "X_val = X_val.reshape(num_samples_val, len_vector)\n",
        "X_test = X_test.reshape(num_samples_test, len_vector)\n",
        "#Определите входную форму для нашей модели Keras (должен быть кортеж)\n",
        "input_shape = (X_train.shape[1],)\n",
        "print(\"X train:\", X_train.shape)\n",
        "print(\"y train:\", y_train.shape)\n",
        "print(\"X val:\", X_val.shape)\n",
        "print(\"y val:\", y_val.shape)\n",
        "print(\"X test:\", X_test.shape)\n",
        "print(\"y test:\", y_test.shape)\n",
        "print(\"Input tensor shape:\", input_shape)"
      ],
      "metadata": {
        "colab": {
          "base_uri": "https://localhost:8080/"
        },
        "id": "JxaJVilBRVCq",
        "outputId": "086f4507-b051-4bb2-8d40-1bd00fd90125"
      },
      "execution_count": null,
      "outputs": [
        {
          "output_type": "stream",
          "name": "stdout",
          "text": [
            "X train: (150, 784)\n",
            "y train: (150,)\n",
            "X val: (50, 784)\n",
            "y val: (50,)\n",
            "X test: (50, 784)\n",
            "y test: (50,)\n",
            "Input tensor shape: (784,)\n"
          ]
        }
      ]
    },
    {
      "cell_type": "code",
      "source": [
        "#Преобразование меток (целых чисел) в однократное кодирование\n",
        "#Получить количество классов\n",
        "num_classes = len(labels)\n",
        "#Используйте Keras np_utils для создания однократного кодирования (обратите внимание на заглавную букву «Y» — 2D-массив)\n",
        "Y_train = np_utils.to_categorical(y_train, num_classes)\n",
        "Y_val = np_utils.to_categorical(y_val, num_classes)\n",
        "Y_test = np_utils.to_categorical(y_test, num_classes)\n",
        "#Распечатайте фигуры (заглавная буква «Y» — наша горячая матрица!)\n",
        "print(\"Y train:\", Y_train.shape)\n",
        "print(\"Y val:\", Y_val.shape)\n",
        "print(\"Y test:\", Y_test.shape)\n",
        "#Распечатайте несколько примеров из тренировочного набора\n",
        "for i in range(10):\n",
        "  print(\"Label: \" + str(y_train[i]) + \" | One-hot:\", Y_train[i])"
      ],
      "metadata": {
        "colab": {
          "base_uri": "https://localhost:8080/"
        },
        "id": "OsA5bEkOSMzY",
        "outputId": "c6acd173-be89-4298-f4ef-1610c2d6df10"
      },
      "execution_count": null,
      "outputs": [
        {
          "output_type": "stream",
          "name": "stdout",
          "text": [
            "Y train: (150, 5)\n",
            "Y val: (50, 5)\n",
            "Y test: (50, 5)\n",
            "Label: 1 | One-hot: [0. 1. 0. 0. 0.]\n",
            "Label: 1 | One-hot: [0. 1. 0. 0. 0.]\n",
            "Label: 0 | One-hot: [1. 0. 0. 0. 0.]\n",
            "Label: 0 | One-hot: [1. 0. 0. 0. 0.]\n",
            "Label: 0 | One-hot: [1. 0. 0. 0. 0.]\n",
            "Label: 4 | One-hot: [0. 0. 0. 0. 1.]\n",
            "Label: 1 | One-hot: [0. 1. 0. 0. 0.]\n",
            "Label: 3 | One-hot: [0. 0. 0. 1. 0.]\n",
            "Label: 1 | One-hot: [0. 1. 0. 0. 0.]\n",
            "Label: 4 | One-hot: [0. 0. 0. 0. 1.]\n"
          ]
        }
      ]
    },
    {
      "cell_type": "code",
      "source": [
        "#Построить модель Кераса\n",
        "#Последовательная модель представляет собой линейный набор слоев\n",
        "model = Sequential()\n",
        "#Первый слой: полностью связан с активацией relu\n",
        "model.add(Dense(64, input_shape=input_shape))\n",
        "model.add(Activation('relu'))\n",
        "model.add(Dropout(0.25)) #25% отсев\n",
        "#Второй слой: полностью связан с активацией relu\n",
        "model.add(Dense(64))   # Входная форма определяется автоматически из предыдущего слоя\n",
        "model.add(Activation('relu'))\n",
        "model.add(Dropout(0.25))\n",
        "#Третий уровень: 5 узлов, по одному на каждый класс, и активация softmax\n",
        "model.add(Dense(num_classes))\n",
        "model.add(Activation('softmax'))\n",
        "#Настройте параметры обучения модели\n",
        "model.compile(loss='categorical_crossentropy', optimizer='adam', metrics=['acc'])\n",
        "print(model.summary())"
      ],
      "metadata": {
        "colab": {
          "base_uri": "https://localhost:8080/"
        },
        "id": "Kt3R3s0pSM3w",
        "outputId": "681d5a66-ed2b-4e58-ad50-5c1043101600"
      },
      "execution_count": null,
      "outputs": [
        {
          "output_type": "stream",
          "name": "stdout",
          "text": [
            "Model: \"sequential\"\n",
            "_________________________________________________________________\n",
            " Layer (type)                Output Shape              Param #   \n",
            "=================================================================\n",
            " dense (Dense)               (None, 64)                50240     \n",
            "                                                                 \n",
            " activation (Activation)     (None, 64)                0         \n",
            "                                                                 \n",
            " dropout (Dropout)           (None, 64)                0         \n",
            "                                                                 \n",
            " dense_1 (Dense)             (None, 64)                4160      \n",
            "                                                                 \n",
            " activation_1 (Activation)   (None, 64)                0         \n",
            "                                                                 \n",
            " dropout_1 (Dropout)         (None, 64)                0         \n",
            "                                                                 \n",
            " dense_2 (Dense)             (None, 5)                 325       \n",
            "                                                                 \n",
            " activation_2 (Activation)   (None, 5)                 0         \n",
            "                                                                 \n",
            "=================================================================\n",
            "Total params: 54,725\n",
            "Trainable params: 54,725\n",
            "Non-trainable params: 0\n",
            "_________________________________________________________________\n",
            "None\n"
          ]
        }
      ]
    },
    {
      "cell_type": "code",
      "source": [
        "#Обучение модели\n",
        "history = model.fit(X_train, \n",
        "                    Y_train, \n",
        "                    batch_size=32, \n",
        "                    epochs=200, \n",
        "                    verbose=1,\n",
        "                    validation_data=(X_val, Y_val))"
      ],
      "metadata": {
        "colab": {
          "base_uri": "https://localhost:8080/"
        },
        "id": "GMJ28iCgRVOI",
        "outputId": "e6da5f41-6d61-41fb-8578-966672374ff9"
      },
      "execution_count": null,
      "outputs": [
        {
          "output_type": "stream",
          "name": "stdout",
          "text": [
            "Epoch 1/200\n",
            "5/5 [==============================] - 1s 60ms/step - loss: 1.7459 - acc: 0.2200 - val_loss: 1.5675 - val_acc: 0.2400\n",
            "Epoch 2/200\n",
            "5/5 [==============================] - 0s 9ms/step - loss: 1.5549 - acc: 0.2867 - val_loss: 1.5574 - val_acc: 0.1800\n",
            "Epoch 3/200\n",
            "5/5 [==============================] - 0s 10ms/step - loss: 1.5752 - acc: 0.2333 - val_loss: 1.5221 - val_acc: 0.2800\n",
            "Epoch 4/200\n",
            "5/5 [==============================] - 0s 11ms/step - loss: 1.4693 - acc: 0.4133 - val_loss: 1.3972 - val_acc: 0.6200\n",
            "Epoch 5/200\n",
            "5/5 [==============================] - 0s 9ms/step - loss: 1.4495 - acc: 0.3933 - val_loss: 1.3588 - val_acc: 0.5600\n",
            "Epoch 6/200\n",
            "5/5 [==============================] - 0s 10ms/step - loss: 1.4208 - acc: 0.4000 - val_loss: 1.2984 - val_acc: 0.5800\n",
            "Epoch 7/200\n",
            "5/5 [==============================] - 0s 10ms/step - loss: 1.3335 - acc: 0.5533 - val_loss: 1.2609 - val_acc: 0.7400\n",
            "Epoch 8/200\n",
            "5/5 [==============================] - 0s 14ms/step - loss: 1.2886 - acc: 0.5933 - val_loss: 1.1842 - val_acc: 0.6000\n",
            "Epoch 9/200\n",
            "5/5 [==============================] - 0s 11ms/step - loss: 1.2155 - acc: 0.5533 - val_loss: 1.0864 - val_acc: 0.6000\n",
            "Epoch 10/200\n",
            "5/5 [==============================] - 0s 17ms/step - loss: 1.1293 - acc: 0.5800 - val_loss: 0.9900 - val_acc: 0.7200\n",
            "Epoch 11/200\n",
            "5/5 [==============================] - 0s 8ms/step - loss: 1.0919 - acc: 0.5867 - val_loss: 0.9416 - val_acc: 0.7400\n",
            "Epoch 12/200\n",
            "5/5 [==============================] - 0s 8ms/step - loss: 1.0422 - acc: 0.6600 - val_loss: 0.9184 - val_acc: 0.6600\n",
            "Epoch 13/200\n",
            "5/5 [==============================] - 0s 9ms/step - loss: 0.9963 - acc: 0.6800 - val_loss: 0.8898 - val_acc: 0.7200\n",
            "Epoch 14/200\n",
            "5/5 [==============================] - 0s 9ms/step - loss: 1.0105 - acc: 0.6400 - val_loss: 0.8386 - val_acc: 0.6200\n",
            "Epoch 15/200\n",
            "5/5 [==============================] - 0s 9ms/step - loss: 0.8996 - acc: 0.7267 - val_loss: 0.7805 - val_acc: 0.7400\n",
            "Epoch 16/200\n",
            "5/5 [==============================] - 0s 10ms/step - loss: 0.9331 - acc: 0.6400 - val_loss: 0.7339 - val_acc: 0.7200\n",
            "Epoch 17/200\n",
            "5/5 [==============================] - 0s 9ms/step - loss: 0.8687 - acc: 0.6733 - val_loss: 0.7268 - val_acc: 0.7200\n",
            "Epoch 18/200\n",
            "5/5 [==============================] - 0s 9ms/step - loss: 0.8184 - acc: 0.7000 - val_loss: 0.6804 - val_acc: 0.7200\n",
            "Epoch 19/200\n",
            "5/5 [==============================] - 0s 9ms/step - loss: 0.7942 - acc: 0.7267 - val_loss: 0.6195 - val_acc: 0.7800\n",
            "Epoch 20/200\n",
            "5/5 [==============================] - 0s 8ms/step - loss: 0.7855 - acc: 0.7267 - val_loss: 0.6183 - val_acc: 0.7400\n",
            "Epoch 21/200\n",
            "5/5 [==============================] - 0s 9ms/step - loss: 0.7645 - acc: 0.7067 - val_loss: 0.6148 - val_acc: 0.7400\n",
            "Epoch 22/200\n",
            "5/5 [==============================] - 0s 8ms/step - loss: 0.6789 - acc: 0.7533 - val_loss: 0.5668 - val_acc: 0.7200\n",
            "Epoch 23/200\n",
            "5/5 [==============================] - 0s 8ms/step - loss: 0.6463 - acc: 0.7800 - val_loss: 0.4932 - val_acc: 0.8400\n",
            "Epoch 24/200\n",
            "5/5 [==============================] - 0s 10ms/step - loss: 0.6366 - acc: 0.7467 - val_loss: 0.4709 - val_acc: 0.8400\n",
            "Epoch 25/200\n",
            "5/5 [==============================] - 0s 9ms/step - loss: 0.6358 - acc: 0.7733 - val_loss: 0.5023 - val_acc: 0.8000\n",
            "Epoch 26/200\n",
            "5/5 [==============================] - 0s 9ms/step - loss: 0.6501 - acc: 0.7600 - val_loss: 0.4947 - val_acc: 0.7400\n",
            "Epoch 27/200\n",
            "5/5 [==============================] - 0s 11ms/step - loss: 0.5678 - acc: 0.7933 - val_loss: 0.4445 - val_acc: 0.8400\n",
            "Epoch 28/200\n",
            "5/5 [==============================] - 0s 9ms/step - loss: 0.6250 - acc: 0.7800 - val_loss: 0.4318 - val_acc: 0.8400\n",
            "Epoch 29/200\n",
            "5/5 [==============================] - 0s 9ms/step - loss: 0.6142 - acc: 0.7933 - val_loss: 0.4723 - val_acc: 0.8200\n",
            "Epoch 30/200\n",
            "5/5 [==============================] - 0s 10ms/step - loss: 0.5353 - acc: 0.8267 - val_loss: 0.4610 - val_acc: 0.8200\n",
            "Epoch 31/200\n",
            "5/5 [==============================] - 0s 9ms/step - loss: 0.5512 - acc: 0.8200 - val_loss: 0.4072 - val_acc: 0.8200\n",
            "Epoch 32/200\n",
            "5/5 [==============================] - 0s 10ms/step - loss: 0.5664 - acc: 0.7733 - val_loss: 0.3685 - val_acc: 0.8600\n",
            "Epoch 33/200\n",
            "5/5 [==============================] - 0s 9ms/step - loss: 0.4852 - acc: 0.8533 - val_loss: 0.4009 - val_acc: 0.8600\n",
            "Epoch 34/200\n",
            "5/5 [==============================] - 0s 9ms/step - loss: 0.4814 - acc: 0.8000 - val_loss: 0.3780 - val_acc: 0.8400\n",
            "Epoch 35/200\n",
            "5/5 [==============================] - 0s 9ms/step - loss: 0.5083 - acc: 0.8133 - val_loss: 0.3610 - val_acc: 0.8600\n",
            "Epoch 36/200\n",
            "5/5 [==============================] - 0s 8ms/step - loss: 0.5061 - acc: 0.8000 - val_loss: 0.3472 - val_acc: 0.8400\n",
            "Epoch 37/200\n",
            "5/5 [==============================] - 0s 9ms/step - loss: 0.4712 - acc: 0.8600 - val_loss: 0.3645 - val_acc: 0.8400\n",
            "Epoch 38/200\n",
            "5/5 [==============================] - 0s 10ms/step - loss: 0.4376 - acc: 0.8200 - val_loss: 0.3464 - val_acc: 0.8800\n",
            "Epoch 39/200\n",
            "5/5 [==============================] - 0s 8ms/step - loss: 0.4753 - acc: 0.8133 - val_loss: 0.3487 - val_acc: 0.8800\n",
            "Epoch 40/200\n",
            "5/5 [==============================] - 0s 10ms/step - loss: 0.4809 - acc: 0.8067 - val_loss: 0.3617 - val_acc: 0.8400\n",
            "Epoch 41/200\n",
            "5/5 [==============================] - 0s 9ms/step - loss: 0.4857 - acc: 0.8000 - val_loss: 0.3228 - val_acc: 0.9000\n",
            "Epoch 42/200\n",
            "5/5 [==============================] - 0s 8ms/step - loss: 0.4494 - acc: 0.8333 - val_loss: 0.3234 - val_acc: 0.8800\n",
            "Epoch 43/200\n",
            "5/5 [==============================] - 0s 9ms/step - loss: 0.4403 - acc: 0.8600 - val_loss: 0.2994 - val_acc: 0.8600\n",
            "Epoch 44/200\n",
            "5/5 [==============================] - 0s 9ms/step - loss: 0.3886 - acc: 0.8467 - val_loss: 0.2860 - val_acc: 0.9400\n",
            "Epoch 45/200\n",
            "5/5 [==============================] - 0s 11ms/step - loss: 0.4475 - acc: 0.8533 - val_loss: 0.3074 - val_acc: 0.8800\n",
            "Epoch 46/200\n",
            "5/5 [==============================] - 0s 9ms/step - loss: 0.4118 - acc: 0.8067 - val_loss: 0.2915 - val_acc: 0.9200\n",
            "Epoch 47/200\n",
            "5/5 [==============================] - 0s 9ms/step - loss: 0.3506 - acc: 0.8667 - val_loss: 0.2690 - val_acc: 0.9000\n",
            "Epoch 48/200\n",
            "5/5 [==============================] - 0s 11ms/step - loss: 0.3606 - acc: 0.8933 - val_loss: 0.2758 - val_acc: 0.9000\n",
            "Epoch 49/200\n",
            "5/5 [==============================] - 0s 10ms/step - loss: 0.3740 - acc: 0.8533 - val_loss: 0.2715 - val_acc: 0.9200\n",
            "Epoch 50/200\n",
            "5/5 [==============================] - 0s 9ms/step - loss: 0.3854 - acc: 0.8800 - val_loss: 0.2674 - val_acc: 0.9000\n",
            "Epoch 51/200\n",
            "5/5 [==============================] - 0s 8ms/step - loss: 0.3564 - acc: 0.8800 - val_loss: 0.2589 - val_acc: 0.9400\n",
            "Epoch 52/200\n",
            "5/5 [==============================] - 0s 8ms/step - loss: 0.4029 - acc: 0.8733 - val_loss: 0.2473 - val_acc: 0.9000\n",
            "Epoch 53/200\n",
            "5/5 [==============================] - 0s 9ms/step - loss: 0.3199 - acc: 0.8733 - val_loss: 0.2427 - val_acc: 0.9200\n",
            "Epoch 54/200\n",
            "5/5 [==============================] - 0s 8ms/step - loss: 0.3457 - acc: 0.8667 - val_loss: 0.2407 - val_acc: 0.9400\n",
            "Epoch 55/200\n",
            "5/5 [==============================] - 0s 9ms/step - loss: 0.4057 - acc: 0.8467 - val_loss: 0.2323 - val_acc: 0.9600\n",
            "Epoch 56/200\n",
            "5/5 [==============================] - 0s 10ms/step - loss: 0.3171 - acc: 0.8867 - val_loss: 0.2576 - val_acc: 0.9000\n",
            "Epoch 57/200\n",
            "5/5 [==============================] - 0s 9ms/step - loss: 0.2892 - acc: 0.8867 - val_loss: 0.2247 - val_acc: 0.9600\n",
            "Epoch 58/200\n",
            "5/5 [==============================] - 0s 8ms/step - loss: 0.3692 - acc: 0.8667 - val_loss: 0.2370 - val_acc: 0.9000\n",
            "Epoch 59/200\n",
            "5/5 [==============================] - 0s 10ms/step - loss: 0.2708 - acc: 0.9267 - val_loss: 0.2324 - val_acc: 0.9400\n",
            "Epoch 60/200\n",
            "5/5 [==============================] - 0s 8ms/step - loss: 0.2587 - acc: 0.9333 - val_loss: 0.2080 - val_acc: 0.9400\n",
            "Epoch 61/200\n",
            "5/5 [==============================] - 0s 10ms/step - loss: 0.3687 - acc: 0.8733 - val_loss: 0.3000 - val_acc: 0.8800\n",
            "Epoch 62/200\n",
            "5/5 [==============================] - 0s 8ms/step - loss: 0.3204 - acc: 0.8867 - val_loss: 0.2238 - val_acc: 0.9400\n",
            "Epoch 63/200\n",
            "5/5 [==============================] - 0s 10ms/step - loss: 0.3648 - acc: 0.8733 - val_loss: 0.2444 - val_acc: 0.9000\n",
            "Epoch 64/200\n",
            "5/5 [==============================] - 0s 9ms/step - loss: 0.2991 - acc: 0.8867 - val_loss: 0.1907 - val_acc: 0.9600\n",
            "Epoch 65/200\n",
            "5/5 [==============================] - 0s 9ms/step - loss: 0.2793 - acc: 0.9267 - val_loss: 0.2404 - val_acc: 0.9600\n",
            "Epoch 66/200\n",
            "5/5 [==============================] - 0s 9ms/step - loss: 0.3417 - acc: 0.8800 - val_loss: 0.2431 - val_acc: 0.8800\n",
            "Epoch 67/200\n",
            "5/5 [==============================] - 0s 10ms/step - loss: 0.3002 - acc: 0.9067 - val_loss: 0.2066 - val_acc: 0.9400\n",
            "Epoch 68/200\n",
            "5/5 [==============================] - 0s 12ms/step - loss: 0.3252 - acc: 0.8667 - val_loss: 0.2141 - val_acc: 0.9600\n",
            "Epoch 69/200\n",
            "5/5 [==============================] - 0s 9ms/step - loss: 0.3095 - acc: 0.8867 - val_loss: 0.2328 - val_acc: 0.8800\n",
            "Epoch 70/200\n",
            "5/5 [==============================] - 0s 9ms/step - loss: 0.2868 - acc: 0.9133 - val_loss: 0.1804 - val_acc: 0.9600\n",
            "Epoch 71/200\n",
            "5/5 [==============================] - 0s 9ms/step - loss: 0.2613 - acc: 0.9133 - val_loss: 0.1935 - val_acc: 0.9600\n",
            "Epoch 72/200\n",
            "5/5 [==============================] - 0s 9ms/step - loss: 0.3030 - acc: 0.9000 - val_loss: 0.2061 - val_acc: 0.9400\n",
            "Epoch 73/200\n",
            "5/5 [==============================] - 0s 9ms/step - loss: 0.2246 - acc: 0.9200 - val_loss: 0.1998 - val_acc: 0.9600\n",
            "Epoch 74/200\n",
            "5/5 [==============================] - 0s 10ms/step - loss: 0.2384 - acc: 0.9067 - val_loss: 0.2139 - val_acc: 0.9000\n",
            "Epoch 75/200\n",
            "5/5 [==============================] - 0s 8ms/step - loss: 0.2583 - acc: 0.8933 - val_loss: 0.1810 - val_acc: 0.9400\n",
            "Epoch 76/200\n",
            "5/5 [==============================] - 0s 10ms/step - loss: 0.2858 - acc: 0.9200 - val_loss: 0.1902 - val_acc: 0.9600\n",
            "Epoch 77/200\n",
            "5/5 [==============================] - 0s 8ms/step - loss: 0.2652 - acc: 0.9333 - val_loss: 0.1714 - val_acc: 0.9600\n",
            "Epoch 78/200\n",
            "5/5 [==============================] - 0s 12ms/step - loss: 0.2538 - acc: 0.9133 - val_loss: 0.1766 - val_acc: 0.9600\n",
            "Epoch 79/200\n",
            "5/5 [==============================] - 0s 9ms/step - loss: 0.2446 - acc: 0.9267 - val_loss: 0.1757 - val_acc: 0.9800\n",
            "Epoch 80/200\n",
            "5/5 [==============================] - 0s 10ms/step - loss: 0.2825 - acc: 0.9133 - val_loss: 0.1627 - val_acc: 0.9600\n",
            "Epoch 81/200\n",
            "5/5 [==============================] - 0s 9ms/step - loss: 0.2396 - acc: 0.9267 - val_loss: 0.1525 - val_acc: 0.9600\n",
            "Epoch 82/200\n",
            "5/5 [==============================] - 0s 9ms/step - loss: 0.2603 - acc: 0.9200 - val_loss: 0.1646 - val_acc: 0.9600\n",
            "Epoch 83/200\n",
            "5/5 [==============================] - 0s 8ms/step - loss: 0.2380 - acc: 0.9333 - val_loss: 0.1720 - val_acc: 0.9600\n",
            "Epoch 84/200\n",
            "5/5 [==============================] - 0s 8ms/step - loss: 0.2337 - acc: 0.9133 - val_loss: 0.1689 - val_acc: 0.9600\n",
            "Epoch 85/200\n",
            "5/5 [==============================] - 0s 9ms/step - loss: 0.2775 - acc: 0.8867 - val_loss: 0.1579 - val_acc: 0.9800\n",
            "Epoch 86/200\n",
            "5/5 [==============================] - 0s 9ms/step - loss: 0.2253 - acc: 0.9467 - val_loss: 0.1613 - val_acc: 0.9600\n",
            "Epoch 87/200\n",
            "5/5 [==============================] - 0s 9ms/step - loss: 0.3051 - acc: 0.8933 - val_loss: 0.1692 - val_acc: 0.9600\n",
            "Epoch 88/200\n",
            "5/5 [==============================] - 0s 10ms/step - loss: 0.2048 - acc: 0.9533 - val_loss: 0.1868 - val_acc: 0.9200\n",
            "Epoch 89/200\n",
            "5/5 [==============================] - 0s 11ms/step - loss: 0.2718 - acc: 0.9067 - val_loss: 0.1577 - val_acc: 0.9600\n",
            "Epoch 90/200\n",
            "5/5 [==============================] - 0s 9ms/step - loss: 0.2381 - acc: 0.9200 - val_loss: 0.1740 - val_acc: 0.9400\n",
            "Epoch 91/200\n",
            "5/5 [==============================] - 0s 10ms/step - loss: 0.2032 - acc: 0.9467 - val_loss: 0.1499 - val_acc: 0.9800\n",
            "Epoch 92/200\n",
            "5/5 [==============================] - 0s 10ms/step - loss: 0.2487 - acc: 0.9333 - val_loss: 0.1490 - val_acc: 0.9600\n",
            "Epoch 93/200\n",
            "5/5 [==============================] - 0s 10ms/step - loss: 0.1858 - acc: 0.9200 - val_loss: 0.1586 - val_acc: 0.9800\n",
            "Epoch 94/200\n",
            "5/5 [==============================] - 0s 10ms/step - loss: 0.2276 - acc: 0.9067 - val_loss: 0.1428 - val_acc: 0.9600\n",
            "Epoch 95/200\n",
            "5/5 [==============================] - 0s 11ms/step - loss: 0.1913 - acc: 0.9467 - val_loss: 0.1613 - val_acc: 0.9600\n",
            "Epoch 96/200\n",
            "5/5 [==============================] - 0s 10ms/step - loss: 0.2083 - acc: 0.9400 - val_loss: 0.1428 - val_acc: 0.9800\n",
            "Epoch 97/200\n",
            "5/5 [==============================] - 0s 8ms/step - loss: 0.1824 - acc: 0.9333 - val_loss: 0.1416 - val_acc: 0.9600\n",
            "Epoch 98/200\n",
            "5/5 [==============================] - 0s 10ms/step - loss: 0.2086 - acc: 0.9267 - val_loss: 0.1804 - val_acc: 0.9400\n",
            "Epoch 99/200\n",
            "5/5 [==============================] - 0s 9ms/step - loss: 0.1884 - acc: 0.9333 - val_loss: 0.1373 - val_acc: 0.9800\n",
            "Epoch 100/200\n",
            "5/5 [==============================] - 0s 10ms/step - loss: 0.1709 - acc: 0.9467 - val_loss: 0.1349 - val_acc: 0.9800\n",
            "Epoch 101/200\n",
            "5/5 [==============================] - 0s 9ms/step - loss: 0.1982 - acc: 0.9600 - val_loss: 0.1950 - val_acc: 0.9200\n",
            "Epoch 102/200\n",
            "5/5 [==============================] - 0s 9ms/step - loss: 0.2178 - acc: 0.9200 - val_loss: 0.1210 - val_acc: 0.9600\n",
            "Epoch 103/200\n",
            "5/5 [==============================] - 0s 10ms/step - loss: 0.1484 - acc: 0.9600 - val_loss: 0.1768 - val_acc: 0.9600\n",
            "Epoch 104/200\n",
            "5/5 [==============================] - 0s 9ms/step - loss: 0.2016 - acc: 0.9400 - val_loss: 0.1755 - val_acc: 0.9400\n",
            "Epoch 105/200\n",
            "5/5 [==============================] - 0s 9ms/step - loss: 0.1821 - acc: 0.9133 - val_loss: 0.1308 - val_acc: 0.9600\n",
            "Epoch 106/200\n",
            "5/5 [==============================] - 0s 10ms/step - loss: 0.2150 - acc: 0.9133 - val_loss: 0.1580 - val_acc: 0.9800\n",
            "Epoch 107/200\n",
            "5/5 [==============================] - 0s 9ms/step - loss: 0.1825 - acc: 0.9267 - val_loss: 0.1548 - val_acc: 0.9600\n",
            "Epoch 108/200\n",
            "5/5 [==============================] - 0s 9ms/step - loss: 0.1623 - acc: 0.9533 - val_loss: 0.1433 - val_acc: 0.9600\n",
            "Epoch 109/200\n",
            "5/5 [==============================] - 0s 9ms/step - loss: 0.1833 - acc: 0.9400 - val_loss: 0.1605 - val_acc: 0.9600\n",
            "Epoch 110/200\n",
            "5/5 [==============================] - 0s 9ms/step - loss: 0.1651 - acc: 0.9600 - val_loss: 0.1475 - val_acc: 0.9600\n",
            "Epoch 111/200\n",
            "5/5 [==============================] - 0s 9ms/step - loss: 0.1506 - acc: 0.9400 - val_loss: 0.1191 - val_acc: 0.9600\n",
            "Epoch 112/200\n",
            "5/5 [==============================] - 0s 11ms/step - loss: 0.1838 - acc: 0.9467 - val_loss: 0.1702 - val_acc: 0.9400\n",
            "Epoch 113/200\n",
            "5/5 [==============================] - 0s 10ms/step - loss: 0.1744 - acc: 0.9333 - val_loss: 0.1398 - val_acc: 0.9600\n",
            "Epoch 114/200\n",
            "5/5 [==============================] - 0s 11ms/step - loss: 0.1854 - acc: 0.9533 - val_loss: 0.1197 - val_acc: 0.9800\n",
            "Epoch 115/200\n",
            "5/5 [==============================] - 0s 12ms/step - loss: 0.1642 - acc: 0.9600 - val_loss: 0.1466 - val_acc: 0.9600\n",
            "Epoch 116/200\n",
            "5/5 [==============================] - 0s 11ms/step - loss: 0.1764 - acc: 0.9400 - val_loss: 0.1258 - val_acc: 0.9600\n",
            "Epoch 117/200\n",
            "5/5 [==============================] - 0s 10ms/step - loss: 0.1295 - acc: 0.9600 - val_loss: 0.1035 - val_acc: 0.9800\n",
            "Epoch 118/200\n",
            "5/5 [==============================] - 0s 11ms/step - loss: 0.1720 - acc: 0.9400 - val_loss: 0.1467 - val_acc: 0.9800\n",
            "Epoch 119/200\n",
            "5/5 [==============================] - 0s 11ms/step - loss: 0.2194 - acc: 0.9133 - val_loss: 0.1125 - val_acc: 0.9800\n",
            "Epoch 120/200\n",
            "5/5 [==============================] - 0s 10ms/step - loss: 0.1679 - acc: 0.9400 - val_loss: 0.1363 - val_acc: 0.9800\n",
            "Epoch 121/200\n",
            "5/5 [==============================] - 0s 10ms/step - loss: 0.1915 - acc: 0.9333 - val_loss: 0.1557 - val_acc: 0.9600\n",
            "Epoch 122/200\n",
            "5/5 [==============================] - 0s 10ms/step - loss: 0.2230 - acc: 0.9267 - val_loss: 0.1400 - val_acc: 0.9600\n",
            "Epoch 123/200\n",
            "5/5 [==============================] - 0s 9ms/step - loss: 0.0789 - acc: 0.9800 - val_loss: 0.1270 - val_acc: 0.9800\n",
            "Epoch 124/200\n",
            "5/5 [==============================] - 0s 13ms/step - loss: 0.1529 - acc: 0.9667 - val_loss: 0.1483 - val_acc: 0.9800\n",
            "Epoch 125/200\n",
            "5/5 [==============================] - 0s 11ms/step - loss: 0.1461 - acc: 0.9600 - val_loss: 0.1063 - val_acc: 0.9800\n",
            "Epoch 126/200\n",
            "5/5 [==============================] - 0s 10ms/step - loss: 0.1416 - acc: 0.9533 - val_loss: 0.1046 - val_acc: 0.9800\n",
            "Epoch 127/200\n",
            "5/5 [==============================] - 0s 11ms/step - loss: 0.1320 - acc: 0.9467 - val_loss: 0.1228 - val_acc: 0.9800\n",
            "Epoch 128/200\n",
            "5/5 [==============================] - 0s 11ms/step - loss: 0.1577 - acc: 0.9400 - val_loss: 0.1233 - val_acc: 0.9600\n",
            "Epoch 129/200\n",
            "5/5 [==============================] - 0s 11ms/step - loss: 0.1464 - acc: 0.9733 - val_loss: 0.1604 - val_acc: 0.9400\n",
            "Epoch 130/200\n",
            "5/5 [==============================] - 0s 10ms/step - loss: 0.1448 - acc: 0.9533 - val_loss: 0.1191 - val_acc: 0.9800\n",
            "Epoch 131/200\n",
            "5/5 [==============================] - 0s 8ms/step - loss: 0.1093 - acc: 0.9733 - val_loss: 0.1195 - val_acc: 0.9800\n",
            "Epoch 132/200\n",
            "5/5 [==============================] - 0s 10ms/step - loss: 0.2015 - acc: 0.9200 - val_loss: 0.1481 - val_acc: 0.9600\n",
            "Epoch 133/200\n",
            "5/5 [==============================] - 0s 9ms/step - loss: 0.1313 - acc: 0.9467 - val_loss: 0.1241 - val_acc: 0.9600\n",
            "Epoch 134/200\n",
            "5/5 [==============================] - 0s 9ms/step - loss: 0.1356 - acc: 0.9600 - val_loss: 0.1421 - val_acc: 0.9800\n",
            "Epoch 135/200\n",
            "5/5 [==============================] - 0s 10ms/step - loss: 0.2232 - acc: 0.9333 - val_loss: 0.1871 - val_acc: 0.9400\n",
            "Epoch 136/200\n",
            "5/5 [==============================] - 0s 9ms/step - loss: 0.1545 - acc: 0.9400 - val_loss: 0.1459 - val_acc: 0.9600\n",
            "Epoch 137/200\n",
            "5/5 [==============================] - 0s 9ms/step - loss: 0.1889 - acc: 0.9133 - val_loss: 0.1316 - val_acc: 0.9800\n",
            "Epoch 138/200\n",
            "5/5 [==============================] - 0s 10ms/step - loss: 0.1592 - acc: 0.9533 - val_loss: 0.1160 - val_acc: 0.9800\n",
            "Epoch 139/200\n",
            "5/5 [==============================] - 0s 11ms/step - loss: 0.1499 - acc: 0.9533 - val_loss: 0.1209 - val_acc: 0.9600\n",
            "Epoch 140/200\n",
            "5/5 [==============================] - 0s 10ms/step - loss: 0.1238 - acc: 0.9533 - val_loss: 0.1356 - val_acc: 0.9600\n",
            "Epoch 141/200\n",
            "5/5 [==============================] - 0s 9ms/step - loss: 0.1317 - acc: 0.9733 - val_loss: 0.1550 - val_acc: 0.9600\n",
            "Epoch 142/200\n",
            "5/5 [==============================] - 0s 11ms/step - loss: 0.1377 - acc: 0.9667 - val_loss: 0.1162 - val_acc: 0.9600\n",
            "Epoch 143/200\n",
            "5/5 [==============================] - 0s 10ms/step - loss: 0.1257 - acc: 0.9533 - val_loss: 0.1349 - val_acc: 0.9600\n",
            "Epoch 144/200\n",
            "5/5 [==============================] - 0s 10ms/step - loss: 0.1136 - acc: 0.9800 - val_loss: 0.1546 - val_acc: 0.9600\n",
            "Epoch 145/200\n",
            "5/5 [==============================] - 0s 9ms/step - loss: 0.1330 - acc: 0.9600 - val_loss: 0.1253 - val_acc: 0.9800\n",
            "Epoch 146/200\n",
            "5/5 [==============================] - 0s 13ms/step - loss: 0.1177 - acc: 0.9600 - val_loss: 0.1086 - val_acc: 0.9800\n",
            "Epoch 147/200\n",
            "5/5 [==============================] - 0s 11ms/step - loss: 0.0947 - acc: 0.9800 - val_loss: 0.0994 - val_acc: 0.9800\n",
            "Epoch 148/200\n",
            "5/5 [==============================] - 0s 8ms/step - loss: 0.1405 - acc: 0.9333 - val_loss: 0.1445 - val_acc: 0.9600\n",
            "Epoch 149/200\n",
            "5/5 [==============================] - 0s 9ms/step - loss: 0.1138 - acc: 0.9600 - val_loss: 0.1175 - val_acc: 0.9800\n",
            "Epoch 150/200\n",
            "5/5 [==============================] - 0s 8ms/step - loss: 0.1292 - acc: 0.9467 - val_loss: 0.1450 - val_acc: 0.9600\n",
            "Epoch 151/200\n",
            "5/5 [==============================] - 0s 9ms/step - loss: 0.1261 - acc: 0.9533 - val_loss: 0.1380 - val_acc: 0.9600\n",
            "Epoch 152/200\n",
            "5/5 [==============================] - 0s 11ms/step - loss: 0.1245 - acc: 0.9800 - val_loss: 0.1562 - val_acc: 0.9400\n",
            "Epoch 153/200\n",
            "5/5 [==============================] - 0s 10ms/step - loss: 0.1764 - acc: 0.9533 - val_loss: 0.1454 - val_acc: 0.9600\n",
            "Epoch 154/200\n",
            "5/5 [==============================] - 0s 9ms/step - loss: 0.1362 - acc: 0.9667 - val_loss: 0.1281 - val_acc: 0.9600\n",
            "Epoch 155/200\n",
            "5/5 [==============================] - 0s 8ms/step - loss: 0.1356 - acc: 0.9467 - val_loss: 0.1404 - val_acc: 0.9600\n",
            "Epoch 156/200\n",
            "5/5 [==============================] - 0s 9ms/step - loss: 0.1100 - acc: 0.9467 - val_loss: 0.1306 - val_acc: 0.9600\n",
            "Epoch 157/200\n",
            "5/5 [==============================] - 0s 9ms/step - loss: 0.1310 - acc: 0.9533 - val_loss: 0.1817 - val_acc: 0.9200\n",
            "Epoch 158/200\n",
            "5/5 [==============================] - 0s 9ms/step - loss: 0.1142 - acc: 0.9600 - val_loss: 0.1039 - val_acc: 0.9400\n",
            "Epoch 159/200\n",
            "5/5 [==============================] - 0s 11ms/step - loss: 0.1174 - acc: 0.9667 - val_loss: 0.1106 - val_acc: 0.9800\n",
            "Epoch 160/200\n",
            "5/5 [==============================] - 0s 8ms/step - loss: 0.1207 - acc: 0.9800 - val_loss: 0.1640 - val_acc: 0.9600\n",
            "Epoch 161/200\n",
            "5/5 [==============================] - 0s 9ms/step - loss: 0.1120 - acc: 0.9533 - val_loss: 0.1290 - val_acc: 0.9400\n",
            "Epoch 162/200\n",
            "5/5 [==============================] - 0s 8ms/step - loss: 0.1088 - acc: 0.9600 - val_loss: 0.1128 - val_acc: 0.9800\n",
            "Epoch 163/200\n",
            "5/5 [==============================] - 0s 10ms/step - loss: 0.1222 - acc: 0.9733 - val_loss: 0.1292 - val_acc: 0.9600\n",
            "Epoch 164/200\n",
            "5/5 [==============================] - 0s 9ms/step - loss: 0.1237 - acc: 0.9600 - val_loss: 0.1123 - val_acc: 0.9600\n",
            "Epoch 165/200\n",
            "5/5 [==============================] - 0s 9ms/step - loss: 0.1522 - acc: 0.9400 - val_loss: 0.1172 - val_acc: 0.9600\n",
            "Epoch 166/200\n",
            "5/5 [==============================] - 0s 11ms/step - loss: 0.1501 - acc: 0.9467 - val_loss: 0.2103 - val_acc: 0.9000\n",
            "Epoch 167/200\n",
            "5/5 [==============================] - 0s 10ms/step - loss: 0.1764 - acc: 0.9400 - val_loss: 0.1387 - val_acc: 0.9600\n",
            "Epoch 168/200\n",
            "5/5 [==============================] - 0s 9ms/step - loss: 0.0752 - acc: 0.9867 - val_loss: 0.1018 - val_acc: 0.9800\n",
            "Epoch 169/200\n",
            "5/5 [==============================] - 0s 10ms/step - loss: 0.1604 - acc: 0.9467 - val_loss: 0.1870 - val_acc: 0.9200\n",
            "Epoch 170/200\n",
            "5/5 [==============================] - 0s 10ms/step - loss: 0.1270 - acc: 0.9600 - val_loss: 0.1847 - val_acc: 0.9400\n",
            "Epoch 171/200\n",
            "5/5 [==============================] - 0s 8ms/step - loss: 0.1154 - acc: 0.9600 - val_loss: 0.1292 - val_acc: 0.9600\n",
            "Epoch 172/200\n",
            "5/5 [==============================] - 0s 9ms/step - loss: 0.1373 - acc: 0.9267 - val_loss: 0.1726 - val_acc: 0.9400\n",
            "Epoch 173/200\n",
            "5/5 [==============================] - 0s 10ms/step - loss: 0.1531 - acc: 0.9333 - val_loss: 0.1095 - val_acc: 0.9600\n",
            "Epoch 174/200\n",
            "5/5 [==============================] - 0s 10ms/step - loss: 0.1120 - acc: 0.9533 - val_loss: 0.1193 - val_acc: 0.9600\n",
            "Epoch 175/200\n",
            "5/5 [==============================] - 0s 9ms/step - loss: 0.1206 - acc: 0.9800 - val_loss: 0.1625 - val_acc: 0.9600\n",
            "Epoch 176/200\n",
            "5/5 [==============================] - 0s 10ms/step - loss: 0.0888 - acc: 0.9667 - val_loss: 0.1410 - val_acc: 0.9800\n",
            "Epoch 177/200\n",
            "5/5 [==============================] - 0s 9ms/step - loss: 0.1640 - acc: 0.9533 - val_loss: 0.1296 - val_acc: 0.9600\n",
            "Epoch 178/200\n",
            "5/5 [==============================] - 0s 9ms/step - loss: 0.1353 - acc: 0.9667 - val_loss: 0.1954 - val_acc: 0.9200\n",
            "Epoch 179/200\n",
            "5/5 [==============================] - 0s 9ms/step - loss: 0.0914 - acc: 0.9667 - val_loss: 0.1363 - val_acc: 0.9600\n",
            "Epoch 180/200\n",
            "5/5 [==============================] - 0s 8ms/step - loss: 0.1028 - acc: 0.9667 - val_loss: 0.1392 - val_acc: 0.9800\n",
            "Epoch 181/200\n",
            "5/5 [==============================] - 0s 9ms/step - loss: 0.0859 - acc: 0.9800 - val_loss: 0.1499 - val_acc: 0.9800\n",
            "Epoch 182/200\n",
            "5/5 [==============================] - 0s 10ms/step - loss: 0.1015 - acc: 0.9533 - val_loss: 0.1354 - val_acc: 0.9600\n",
            "Epoch 183/200\n",
            "5/5 [==============================] - 0s 9ms/step - loss: 0.1390 - acc: 0.9400 - val_loss: 0.1454 - val_acc: 0.9600\n",
            "Epoch 184/200\n",
            "5/5 [==============================] - 0s 10ms/step - loss: 0.0882 - acc: 0.9733 - val_loss: 0.1788 - val_acc: 0.9400\n",
            "Epoch 185/200\n",
            "5/5 [==============================] - 0s 9ms/step - loss: 0.1306 - acc: 0.9667 - val_loss: 0.1094 - val_acc: 0.9600\n",
            "Epoch 186/200\n",
            "5/5 [==============================] - 0s 10ms/step - loss: 0.1027 - acc: 0.9600 - val_loss: 0.1454 - val_acc: 0.9600\n",
            "Epoch 187/200\n",
            "5/5 [==============================] - 0s 10ms/step - loss: 0.1677 - acc: 0.9200 - val_loss: 0.1150 - val_acc: 0.9800\n",
            "Epoch 188/200\n",
            "5/5 [==============================] - 0s 9ms/step - loss: 0.0970 - acc: 0.9733 - val_loss: 0.1356 - val_acc: 0.9600\n",
            "Epoch 189/200\n",
            "5/5 [==============================] - 0s 9ms/step - loss: 0.1588 - acc: 0.9400 - val_loss: 0.1129 - val_acc: 0.9400\n",
            "Epoch 190/200\n",
            "5/5 [==============================] - 0s 9ms/step - loss: 0.1264 - acc: 0.9733 - val_loss: 0.1383 - val_acc: 0.9600\n",
            "Epoch 191/200\n",
            "5/5 [==============================] - 0s 9ms/step - loss: 0.0834 - acc: 0.9800 - val_loss: 0.1352 - val_acc: 0.9600\n",
            "Epoch 192/200\n",
            "5/5 [==============================] - 0s 10ms/step - loss: 0.1442 - acc: 0.9400 - val_loss: 0.1336 - val_acc: 0.9800\n",
            "Epoch 193/200\n",
            "5/5 [==============================] - 0s 9ms/step - loss: 0.1193 - acc: 0.9667 - val_loss: 0.1054 - val_acc: 0.9800\n",
            "Epoch 194/200\n",
            "5/5 [==============================] - 0s 10ms/step - loss: 0.0883 - acc: 0.9800 - val_loss: 0.1318 - val_acc: 0.9400\n",
            "Epoch 195/200\n",
            "5/5 [==============================] - 0s 9ms/step - loss: 0.0892 - acc: 0.9667 - val_loss: 0.1603 - val_acc: 0.9600\n",
            "Epoch 196/200\n",
            "5/5 [==============================] - 0s 9ms/step - loss: 0.0450 - acc: 0.9933 - val_loss: 0.1557 - val_acc: 0.9600\n",
            "Epoch 197/200\n",
            "5/5 [==============================] - 0s 9ms/step - loss: 0.0837 - acc: 0.9733 - val_loss: 0.1510 - val_acc: 0.9600\n",
            "Epoch 198/200\n",
            "5/5 [==============================] - 0s 9ms/step - loss: 0.0855 - acc: 0.9800 - val_loss: 0.1372 - val_acc: 0.9600\n",
            "Epoch 199/200\n",
            "5/5 [==============================] - 0s 9ms/step - loss: 0.0593 - acc: 0.9933 - val_loss: 0.1309 - val_acc: 0.9600\n",
            "Epoch 200/200\n",
            "5/5 [==============================] - 0s 11ms/step - loss: 0.0696 - acc: 0.9800 - val_loss: 0.1242 - val_acc: 0.9800\n"
          ]
        }
      ]
    },
    {
      "cell_type": "code",
      "source": [
        "#График обучения и проверки точности и потерь с течением времени\n",
        "#Извлечение значений точности и потерь (в виде списка) из истории\n",
        "acc = history.history['acc']\n",
        "val_acc = history.history['val_acc']\n",
        "loss = history.history['loss']\n",
        "val_loss = history.history['val_loss']\n",
        "#Создайте список номеров эпох\n",
        "epochs = range(1, len(acc) + 1)\n",
        "#График значений потерь при обучении и проверке с течением времени\n",
        "plt.figure()\n",
        "plt.plot(epochs, loss, color='blue', marker='.', label='Training loss')\n",
        "plt.plot(epochs, val_loss, color='orange', marker='.', label='Validation loss')\n",
        "plt.title('Потеря обучения и проверки')\n",
        "plt.legend()\n",
        "#Отображение точности обучения и проверки с течением времени\n",
        "plt.figure()\n",
        "plt.plot(epochs, acc, color='blue', marker='.', label='Training acc')\n",
        "plt.plot(epochs, val_acc, color='orange', marker='.', label='Validation acc')\n",
        "plt.title('Точность обучения и проверки')\n",
        "plt.legend()\n",
        "plt.show()"
      ],
      "metadata": {
        "colab": {
          "base_uri": "https://localhost:8080/",
          "height": 545
        },
        "id": "1zzsWBL_acIB",
        "outputId": "61e94554-5cb5-43e2-d691-6a4d8fd89d81"
      },
      "execution_count": null,
      "outputs": [
        {
          "output_type": "display_data",
          "data": {
            "text/plain": [
              "<Figure size 432x288 with 1 Axes>"
            ],
            "image/png": "[encoded data removed]"
          },
          "metadata": {
            "needs_background": "light"
          }
        },
        {
          "output_type": "display_data",
          "data": {
            "text/plain": [
              "<Figure size 432x288 with 1 Axes>"
            ],
            "image/png": "[encoded data removed]"
          },
          "metadata": {
            "needs_background": "light"
          }
        }
      ]
    },
    {
      "cell_type": "code",
      "source": [
        "#Попробуйте предсказать метку с одним проверочным образцом (вывод)\n",
        "#Измените это, чтобы попробовать другой образец из тестового набора\n",
        "idx = 9\n",
        "#Создайте образец 2D-массива вместо 1D-вектора (это то, что модель Keras ожидает в качестве входных данных)\n",
        "x = np.expand_dims(X_val[idx], 0)\n",
        "# Сделайте прогноз, используя обученную модель\n",
        "y_pred = model.predict(x)\n",
        "# Найдите индекс наивысшего балла в выводе\n",
        "predicted_label = np.argmax(y_pred)\n",
        "actual_label = np.argmax(Y_val[idx])\n",
        "# Отображение выходных данных модели, предсказанная метка, фактическая метка\n",
        "print(\"Model output:\", y_pred)\n",
        "print(\"Predicted label:\", predicted_label, \"-\", labels[predicted_label])\n",
        "print(\"Actual label:\", actual_label, \"-\", labels[actual_label])"
      ],
      "metadata": {
        "colab": {
          "base_uri": "https://localhost:8080/"
        },
        "id": "g9raujdebQvY",
        "outputId": "8fe65395-bc37-40b6-ceff-cfd07a7318f0"
      },
      "execution_count": null,
      "outputs": [
        {
          "output_type": "stream",
          "name": "stdout",
          "text": [
            "Model output: [[8.9565496e-05 5.5669894e-05 2.4200104e-02 1.3120954e-03 9.7434253e-01]]\n",
            "Predicted label: 4 - resistor\n",
            "Actual label: 4 - resistor\n"
          ]
        }
      ]
    },
    {
      "cell_type": "code",
      "source": [
        "#Создайте матрицу путаницы из набора проверки\n",
        "#Найдите прогнозы из всех проверочных образцов\n",
        "Y_pred = model.predict(X_val)\n",
        "print(\"Validation output shape:\", Y_pred.shape)\n",
        "#Преобразование фактической и прогнозируемой проверки однократного кодирования в числовые метки\n",
        "y_val = np.argmax(Y_val, axis=1)\n",
        "y_pred = np.argmax(Y_pred, axis=1)\n",
        "#Распечатайте некоторые значения из фактических и прогнозируемых наборов проверки (первые 50 образцов)\n",
        "print(\"Actual validation labels:\\t\", y_val[:50])\n",
        "print(\"Predicted validation labels:\\t\", y_pred[:50])\n",
        "#Вычислить матрицу путаницы (примечание: нам нужно транспонировать матрицу SKLearn, чтобы она соответствовала Edge Impulse)\n",
        "cm = confusion_matrix(y_val, y_pred)\n",
        "cm = np.transpose(cm)\n",
        "#Распечатать матрицу путаницы\n",
        "print()\n",
        "print(\" ---> Predicted labels\")\n",
        "print(\"|\")\n",
        "print(\"v Actual labels\")\n",
        "print(\"\\t\\t\\t\" + ' '.join(\"{!s:6}\".format('(' + str(i) + ')') for i in range(num_classes)))\n",
        "for row in range(num_classes):\n",
        "  print(\"{:>12} ({}):  [{}]\".format(labels[row], row, ' '.join(\"{:6}\".format(i) for i in cm[row])))\n"
      ],
      "metadata": {
        "colab": {
          "base_uri": "https://localhost:8080/"
        },
        "id": "coOa52wKbQyj",
        "outputId": "3c8fea97-fd81-4972-e6cd-e3eb4dd4563b"
      },
      "execution_count": null,
      "outputs": [
        {
          "output_type": "stream",
          "name": "stdout",
          "text": [
            "Validation output shape: (50, 5)\n",
            "Actual validation labels:\t [1 1 3 1 4 2 0 2 0 4 2 1 1 1 0 4 0 4 0 4 3 3 0 1 3 0 4 0 3 2 2 4 3 4 0 0 2\n",
            " 4 4 3 3 0 4 1 3 2 4 1 0 0]\n",
            "Predicted validation labels:\t [1 1 3 1 4 2 0 2 0 4 2 1 1 1 0 4 0 4 0 4 3 3 0 1 3 0 4 0 3 2 2 4 3 4 0 0 2\n",
            " 2 4 3 3 0 4 1 3 2 4 1 0 0]\n",
            "\n",
            " ---> Predicted labels\n",
            "|\n",
            "v Actual labels\n",
            "\t\t\t(0)    (1)    (2)    (3)    (4)   \n",
            "  background (0):  [    13      0      0      0      0]\n",
            "   capacitor (1):  [     0      9      0      0      0]\n",
            "       diode (2):  [     0      0      7      0      1]\n",
            "         led (3):  [     0      0      0      9      0]\n",
            "    resistor (4):  [     0      0      0      0     11]\n"
          ]
        }
      ]
    },
    {
      "cell_type": "code",
      "source": [
        "#Оценить модель на проверочном наборе\n",
        "score = model.evaluate(X_val, Y_val)\n",
        "print(\"Validation loss:\", score[0])\n",
        "print(\"Validation accuracy:\", score[1])"
      ],
      "metadata": {
        "colab": {
          "base_uri": "https://localhost:8080/"
        },
        "id": "XYnsaSzOkJOp",
        "outputId": "851241dc-9d95-41cd-b2d3-af926b63a39f"
      },
      "execution_count": null,
      "outputs": [
        {
          "output_type": "stream",
          "name": "stdout",
          "text": [
            "2/2 [==============================] - 0s 9ms/step - loss: 0.1242 - acc: 0.9800\n",
            "Validation loss: 0.12421175092458725\n",
            "Validation accuracy: 0.9800000190734863\n"
          ]
        }
      ]
    },
    {
      "cell_type": "code",
      "source": [
        "#Оценить модель на всем тестовом наборе\n",
        "score = model.evaluate(X_test, Y_test)\n",
        "print(\"Test loss:\", score[0])\n",
        "print(\"Test accuracy:\", score[1])"
      ],
      "metadata": {
        "colab": {
          "base_uri": "https://localhost:8080/"
        },
        "id": "iSs9Tgc2kUkI",
        "outputId": "5ee7bc0a-bb70-4c89-e762-83130b250e4b"
      },
      "execution_count": null,
      "outputs": [
        {
          "output_type": "stream",
          "name": "stdout",
          "text": [
            "2/2 [==============================] - 0s 10ms/step - loss: 0.3146 - acc: 0.8600\n",
            "Test loss: 0.31463563442230225\n",
            "Test accuracy: 0.8600000143051147\n"
          ]
        }
      ]
    }
  ]
}